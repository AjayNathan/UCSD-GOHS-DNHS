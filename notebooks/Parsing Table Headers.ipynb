{
 "metadata": {
  "name": "Parsing Table Headers"
 },
 "nbformat": 3,
 "nbformat_minor": 0,
 "worksheets": [
  {
   "cells": [
    {
     "cell_type": "code",
     "collapsed": false,
     "input": [
      "!head ../data/headers.txt"
     ],
     "language": "python",
     "metadata": {},
     "outputs": [
      {
       "output_type": "stream",
       "stream": "stdout",
       "text": [
        "  B17001  POVERTY STATUS IN THE PAST 12 MONTHS BY SEX BY AGE\r\n",
        " B17001A  POVERTY STATUS IN THE PAST 12 MONTHS BY SEX BY AGE (WHITE ALONE)\r\n",
        " B17001B  POVERTY STATUS IN THE PAST 12 MONTHS BY SEX BY AGE (BLACK OR AFRICAN AMERICAN ALONE)\r\n",
        " B17001C  POVERTY STATUS IN THE PAST 12 MONTHS BY SEX BY AGE (AMERICAN INDIAN AND ALASKA NATIVE ALONE)\r\n",
        " B17001D  POVERTY STATUS IN THE PAST 12 MONTHS BY SEX BY AGE (ASIAN ALONE)\r\n",
        " B17001E  POVERTY STATUS IN THE PAST 12 MONTHS BY SEX BY AGE (NATIVE HAWAIIAN AND OTHER PACIFIC ISLANDER ALONE)\r\n",
        " B17001F  POVERTY STATUS IN THE PAST 12 MONTHS BY SEX BY AGE (SOME OTHER RACE ALONE)\r\n",
        " B17001G  POVERTY STATUS IN THE PAST 12 MONTHS BY SEX BY AGE (TWO OR MORE RACES)\r\n",
        " B17001H  POVERTY STATUS IN THE PAST 12 MONTHS BY SEX BY AGE (WHITE ALONE, NOT HISPANIC OR LATINO)\r\n",
        " B17001I  POVERTY STATUS IN THE PAST 12 MONTHS BY SEX BY AGE (HISPANIC OR LATINO)\r\n"
       ]
      }
     ],
     "prompt_number": 1
    },
    {
     "cell_type": "code",
     "collapsed": false,
     "input": [
      "def read_file(filename='../data/headers.txt'):\n",
      "    file=open(filename,'r')\n",
      "    i=0\n",
      "    parsed_lines=[]\n",
      "    for line in file.readlines():\n",
      "        words=[word.strip() for word in line.split()]\n",
      "        parsed_lines += [words[1:]]\n",
      "    return parsed_lines\n",
      "parsed_lines=read_file()"
     ],
     "language": "python",
     "metadata": {},
     "outputs": [],
     "prompt_number": 167
    },
    {
     "cell_type": "code",
     "collapsed": false,
     "input": [
      "' '.join(parsed_lines[2])"
     ],
     "language": "python",
     "metadata": {},
     "outputs": [
      {
       "output_type": "pyout",
       "prompt_number": 168,
       "text": [
        "'POVERTY STATUS IN THE PAST 12 MONTHS BY SEX BY AGE (BLACK OR AFRICAN AMERICAN ALONE)'"
       ]
      }
     ],
     "prompt_number": 168
    },
    {
     "cell_type": "code",
     "collapsed": false,
     "input": [
      "def find_match(A,B):\n",
      "    \"\"\" \n",
      "    find the longest matching subsequence (consecutive) between two lists \n",
      "    \"\"\"\n",
      "    best = (0,0,0)\n",
      "    for i in range(len(A)):\n",
      "        for j in range(len(B)):\n",
      "            k=0\n",
      "            while i+k<len(A) and j+k<len(B):\n",
      "                if A[i+k] != B[j+k]: break\n",
      "                k += 1\n",
      "            if k>best[2]:\n",
      "                best = (i,j,k)\n",
      "    return best\n",
      "    \n",
      "find_match(parsed_lines[9],parsed_lines[10]) \n",
      "              "
     ],
     "language": "python",
     "metadata": {},
     "outputs": [
      {
       "output_type": "pyout",
       "prompt_number": 169,
       "text": [
        "(2, 3, 5)"
       ]
      }
     ],
     "prompt_number": 169
    },
    {
     "cell_type": "code",
     "collapsed": false,
     "input": [
      "def contains(A,B):\n",
      "    \"\"\"\n",
      "    Check if A contains B as a prefix\n",
      "    Output: 1=contains, 0=does not\n",
      "    \"\"\"\n",
      "    if len(A)<len(B): return 0\n",
      "    #check prefix\n",
      "    for i in range(len(B)):\n",
      "        if A[i]!=B[i]: break\n",
      "    else:\n",
      "        return 1\n",
      "    return 0\n",
      "contains([1,2,3],[2,3])"
     ],
     "language": "python",
     "metadata": {},
     "outputs": [
      {
       "output_type": "pyout",
       "prompt_number": 170,
       "text": [
        "0"
       ]
      }
     ],
     "prompt_number": 170
    },
    {
     "cell_type": "code",
     "collapsed": false,
     "input": [
      "from collections import Counter\n",
      "def count_occurances(List,seq):\n",
      "    \"\"\"\n",
      "    Count the number of elements of List which have seq as a prefix.\n",
      "    \"\"\"\n",
      "    L=len(List)\n",
      "    c=[0]*L\n",
      "    for i in range(L):\n",
      "        f=contains(List[i],seq)\n",
      "        c[i]=f\n",
      "    return c\n",
      "for i in range(len(parsed_lines[0])):\n",
      "    print i, sum(count_occurances(parsed_lines,parsed_lines[0][:i]))\n",
      "detections=count_occurances(parsed_lines,parsed_lines[0][:7])\n",
      "#[' '.join(parsed_lines[i]) for i in range(len(parsed_lines)) if detections[i]==1]"
     ],
     "language": "python",
     "metadata": {},
     "outputs": [
      {
       "output_type": "stream",
       "stream": "stdout",
       "text": [
        "0 261\n",
        "1 65\n",
        "2 65\n",
        "3 61\n",
        "4 61\n",
        "5 61\n",
        "6 61\n",
        "7 61\n",
        "8 24\n",
        "9 11\n",
        "10 11\n"
       ]
      }
     ],
     "prompt_number": 171
    },
    {
     "cell_type": "code",
     "collapsed": false,
     "input": [
      "def find_best_length(List,seq):\n",
      "    \"\"\"\n",
      "    find the prefix of seq that maximizes the product: no of occurances*length of prefix.\n",
      "    The larger this product, the more the data will be compressed when replacing the prefix by\n",
      "    an index of a dictionary entry.\n",
      "    \"\"\"\n",
      "    Max=-1\n",
      "    for i in range(len(seq)):\n",
      "        c=count_occurances(List,seq[:i])\n",
      "        if (sum(c)*i) > Max:\n",
      "            best_c=c\n",
      "            best_i=i\n",
      "            Max=sum(c)*i\n",
      "    return [Max,best_i,best_c]\n",
      "(Max,best_i,c) = find_best_length(parsed_lines,parsed_lines[0])\n",
      "print Max,best_i\n",
      "#[str(i)+': '+' '.join(parsed_lines[i]) for i in range(len(parsed_lines)) if c[i]==1]\n"
     ],
     "language": "python",
     "metadata": {},
     "outputs": [
      {
       "output_type": "stream",
       "stream": "stdout",
       "text": [
        "427 7\n"
       ]
      }
     ],
     "prompt_number": 172
    },
    {
     "cell_type": "code",
     "collapsed": false,
     "input": [
      "def find_best(List,returnLength=1):\n",
      "    \"\"\"\n",
      "    given a list of lists of words, find the prefixes with the highest scores\n",
      "    \"\"\"\n",
      "    B=[0]*len(List)\n",
      "    for i in range(len(List)):\n",
      "        if len(List[i])>0:\n",
      "            B[i]= find_best_length(List,List[i])\n",
      "            B[i].insert(0,i)\n",
      "            if type(B[i])!=list: print 'bad B[i]=',i,B[i]\n",
      "    print 'find_best:',len(B)\n",
      "    B.sort(key=lambda e:e[1],reverse=True)\n",
      "    return B[:returnLength]\n"
     ],
     "language": "python",
     "metadata": {},
     "outputs": [],
     "prompt_number": 173
    },
    {
     "cell_type": "code",
     "collapsed": false,
     "input": [
      "def remove_seq(List,length,C):\n",
      "    print \"remove_seq: removing\",sum(C),\" snippets of length\",length\n",
      "    elements=[i for i in range(len(C)) if C[i]==1]\n",
      "    print \"snippet=\",' '.join(List[elements[0]][:length])\n",
      "    for e in elements:\n",
      "        del (List[e])[:length]\n",
      "    List=[l for l in List if len(l)>0]\n",
      "    return List\n",
      "remove_seq(parsed_lines,B[0][2],B[0][3])\n",
      "i=2\n",
      "print ' '.join(parsed_lines[i])"
     ],
     "language": "python",
     "metadata": {},
     "outputs": [
      {
       "output_type": "stream",
       "stream": "stdout",
       "text": [
        "remove_seq: removing 9  snippets of length 35\n",
        "snippet= MEDIAN EARNINGS IN THE PAST 12 MONTHS (IN 2006 INFLATION-ADJUSTED DOLLARS) BY SEX BY WORK EXPERIENCE IN THE PAST 12 MONTHS FOR THE POPULATION 16 YEARS AND OVER WITH EARNINGS IN THE PAST 12 MONTHS\n",
        "POVERTY STATUS IN THE PAST 12 MONTHS BY SEX BY AGE (BLACK OR AFRICAN AMERICAN ALONE)\n"
       ]
      }
     ],
     "prompt_number": 174
    },
    {
     "cell_type": "code",
     "collapsed": false,
     "input": [
      "parsed_lines=read_file()\n",
      "print len(parsed_lines),len(sum(parsed_lines,[]))\n",
      "while True:\n",
      "    B=find_best(parsed_lines,1)\n",
      "    b=B[0]\n",
      "    C=b[3]\n",
      "    length=b[2]\n",
      "    print b[:3]\n",
      "    remove_seq(parsed_lines,b[2],b[3])\n",
      "    print len(parsed_lines),len(sum(parsed_lines,[]))\n",
      "    \n"
     ],
     "language": "python",
     "metadata": {},
     "outputs": [
      {
       "output_type": "stream",
       "stream": "stdout",
       "text": [
        "261 4783\n",
        "find_best:"
       ]
      },
      {
       "output_type": "stream",
       "stream": "stdout",
       "text": [
        " 261\n",
        "[0, 427, 7]\n",
        "remove_seq: removing 61  snippets of length 7\n",
        "snippet= POVERTY STATUS IN THE PAST 12 MONTHS\n",
        "261 4356\n",
        "find_best:"
       ]
      },
      {
       "output_type": "stream",
       "stream": "stdout",
       "text": [
        " 261\n",
        "[197, 315, 35]\n",
        "remove_seq: removing 9  snippets of length 35\n",
        "snippet= MEDIAN EARNINGS IN THE PAST 12 MONTHS (IN 2006 INFLATION-ADJUSTED DOLLARS) BY SEX BY WORK EXPERIENCE IN THE PAST 12 MONTHS FOR THE POPULATION 16 YEARS AND OVER WITH EARNINGS IN THE PAST 12 MONTHS\n",
        "261 4041\n",
        "find_best:"
       ]
      },
      {
       "ename": "TypeError",
       "evalue": "'int' object has no attribute '__getitem__'",
       "output_type": "pyerr",
       "traceback": [
        "\u001b[0;31m---------------------------------------------------------------------------\u001b[0m\n\u001b[0;31mTypeError\u001b[0m                                 Traceback (most recent call last)",
        "\u001b[0;32m<ipython-input-175-6888196fbddc>\u001b[0m in \u001b[0;36m<module>\u001b[0;34m()\u001b[0m\n\u001b[1;32m      2\u001b[0m \u001b[0;32mprint\u001b[0m \u001b[0mlen\u001b[0m\u001b[0;34m(\u001b[0m\u001b[0mparsed_lines\u001b[0m\u001b[0;34m)\u001b[0m\u001b[0;34m,\u001b[0m\u001b[0mlen\u001b[0m\u001b[0;34m(\u001b[0m\u001b[0msum\u001b[0m\u001b[0;34m(\u001b[0m\u001b[0mparsed_lines\u001b[0m\u001b[0;34m,\u001b[0m\u001b[0;34m[\u001b[0m\u001b[0;34m]\u001b[0m\u001b[0;34m)\u001b[0m\u001b[0;34m)\u001b[0m\u001b[0;34m\u001b[0m\u001b[0m\n\u001b[1;32m      3\u001b[0m \u001b[0;32mwhile\u001b[0m \u001b[0mTrue\u001b[0m\u001b[0;34m:\u001b[0m\u001b[0;34m\u001b[0m\u001b[0m\n\u001b[0;32m----> 4\u001b[0;31m     \u001b[0mB\u001b[0m\u001b[0;34m=\u001b[0m\u001b[0mfind_best\u001b[0m\u001b[0;34m(\u001b[0m\u001b[0mparsed_lines\u001b[0m\u001b[0;34m,\u001b[0m\u001b[0;36m1\u001b[0m\u001b[0;34m)\u001b[0m\u001b[0;34m\u001b[0m\u001b[0m\n\u001b[0m\u001b[1;32m      5\u001b[0m     \u001b[0mb\u001b[0m\u001b[0;34m=\u001b[0m\u001b[0mB\u001b[0m\u001b[0;34m[\u001b[0m\u001b[0;36m0\u001b[0m\u001b[0;34m]\u001b[0m\u001b[0;34m\u001b[0m\u001b[0m\n\u001b[1;32m      6\u001b[0m     \u001b[0mC\u001b[0m\u001b[0;34m=\u001b[0m\u001b[0mb\u001b[0m\u001b[0;34m[\u001b[0m\u001b[0;36m3\u001b[0m\u001b[0;34m]\u001b[0m\u001b[0;34m\u001b[0m\u001b[0m\n",
        "\u001b[0;32m<ipython-input-173-5a1b197dd03e>\u001b[0m in \u001b[0;36mfind_best\u001b[0;34m(List, returnLength)\u001b[0m\n\u001b[1;32m     10\u001b[0m             \u001b[0;32mif\u001b[0m \u001b[0mtype\u001b[0m\u001b[0;34m(\u001b[0m\u001b[0mB\u001b[0m\u001b[0;34m[\u001b[0m\u001b[0mi\u001b[0m\u001b[0;34m]\u001b[0m\u001b[0;34m)\u001b[0m\u001b[0;34m!=\u001b[0m\u001b[0mlist\u001b[0m\u001b[0;34m:\u001b[0m \u001b[0;32mprint\u001b[0m \u001b[0;34m'bad B[i]='\u001b[0m\u001b[0;34m,\u001b[0m\u001b[0mi\u001b[0m\u001b[0;34m,\u001b[0m\u001b[0mB\u001b[0m\u001b[0;34m[\u001b[0m\u001b[0mi\u001b[0m\u001b[0;34m]\u001b[0m\u001b[0;34m\u001b[0m\u001b[0m\n\u001b[1;32m     11\u001b[0m     \u001b[0;32mprint\u001b[0m \u001b[0;34m'find_best:'\u001b[0m\u001b[0;34m,\u001b[0m\u001b[0mlen\u001b[0m\u001b[0;34m(\u001b[0m\u001b[0mB\u001b[0m\u001b[0;34m)\u001b[0m\u001b[0;34m\u001b[0m\u001b[0m\n\u001b[0;32m---> 12\u001b[0;31m     \u001b[0mB\u001b[0m\u001b[0;34m.\u001b[0m\u001b[0msort\u001b[0m\u001b[0;34m(\u001b[0m\u001b[0mkey\u001b[0m\u001b[0;34m=\u001b[0m\u001b[0;32mlambda\u001b[0m \u001b[0me\u001b[0m\u001b[0;34m:\u001b[0m\u001b[0me\u001b[0m\u001b[0;34m[\u001b[0m\u001b[0;36m1\u001b[0m\u001b[0;34m]\u001b[0m\u001b[0;34m,\u001b[0m\u001b[0mreverse\u001b[0m\u001b[0;34m=\u001b[0m\u001b[0mTrue\u001b[0m\u001b[0;34m)\u001b[0m\u001b[0;34m\u001b[0m\u001b[0m\n\u001b[0m\u001b[1;32m     13\u001b[0m     \u001b[0;32mreturn\u001b[0m \u001b[0mB\u001b[0m\u001b[0;34m[\u001b[0m\u001b[0;34m:\u001b[0m\u001b[0mreturnLength\u001b[0m\u001b[0;34m]\u001b[0m\u001b[0;34m\u001b[0m\u001b[0m\n",
        "\u001b[0;32m<ipython-input-173-5a1b197dd03e>\u001b[0m in \u001b[0;36m<lambda>\u001b[0;34m(e)\u001b[0m\n\u001b[1;32m     10\u001b[0m             \u001b[0;32mif\u001b[0m \u001b[0mtype\u001b[0m\u001b[0;34m(\u001b[0m\u001b[0mB\u001b[0m\u001b[0;34m[\u001b[0m\u001b[0mi\u001b[0m\u001b[0;34m]\u001b[0m\u001b[0;34m)\u001b[0m\u001b[0;34m!=\u001b[0m\u001b[0mlist\u001b[0m\u001b[0;34m:\u001b[0m \u001b[0;32mprint\u001b[0m \u001b[0;34m'bad B[i]='\u001b[0m\u001b[0;34m,\u001b[0m\u001b[0mi\u001b[0m\u001b[0;34m,\u001b[0m\u001b[0mB\u001b[0m\u001b[0;34m[\u001b[0m\u001b[0mi\u001b[0m\u001b[0;34m]\u001b[0m\u001b[0;34m\u001b[0m\u001b[0m\n\u001b[1;32m     11\u001b[0m     \u001b[0;32mprint\u001b[0m \u001b[0;34m'find_best:'\u001b[0m\u001b[0;34m,\u001b[0m\u001b[0mlen\u001b[0m\u001b[0;34m(\u001b[0m\u001b[0mB\u001b[0m\u001b[0;34m)\u001b[0m\u001b[0;34m\u001b[0m\u001b[0m\n\u001b[0;32m---> 12\u001b[0;31m     \u001b[0mB\u001b[0m\u001b[0;34m.\u001b[0m\u001b[0msort\u001b[0m\u001b[0;34m(\u001b[0m\u001b[0mkey\u001b[0m\u001b[0;34m=\u001b[0m\u001b[0;32mlambda\u001b[0m \u001b[0me\u001b[0m\u001b[0;34m:\u001b[0m\u001b[0me\u001b[0m\u001b[0;34m[\u001b[0m\u001b[0;36m1\u001b[0m\u001b[0;34m]\u001b[0m\u001b[0;34m,\u001b[0m\u001b[0mreverse\u001b[0m\u001b[0;34m=\u001b[0m\u001b[0mTrue\u001b[0m\u001b[0;34m)\u001b[0m\u001b[0;34m\u001b[0m\u001b[0m\n\u001b[0m\u001b[1;32m     13\u001b[0m     \u001b[0;32mreturn\u001b[0m \u001b[0mB\u001b[0m\u001b[0;34m[\u001b[0m\u001b[0;34m:\u001b[0m\u001b[0mreturnLength\u001b[0m\u001b[0;34m]\u001b[0m\u001b[0;34m\u001b[0m\u001b[0m\n",
        "\u001b[0;31mTypeError\u001b[0m: 'int' object has no attribute '__getitem__'"
       ]
      },
      {
       "output_type": "stream",
       "stream": "stdout",
       "text": [
        " 261\n"
       ]
      }
     ],
     "prompt_number": 175
    },
    {
     "cell_type": "code",
     "collapsed": false,
     "input": [
      "' '.join(parsed_lines[197][:35])"
     ],
     "language": "python",
     "metadata": {},
     "outputs": [
      {
       "output_type": "pyout",
       "prompt_number": 99,
       "text": [
        "'(WHITE ALONE)'"
       ]
      }
     ],
     "prompt_number": 99
    },
    {
     "cell_type": "code",
     "collapsed": false,
     "input": [
      "len(sum(parsed_lines,[]))"
     ],
     "language": "python",
     "metadata": {},
     "outputs": [
      {
       "output_type": "pyout",
       "prompt_number": 119,
       "text": [
        "4783"
       ]
      }
     ],
     "prompt_number": 119
    },
    {
     "cell_type": "code",
     "collapsed": false,
     "input": [
      "len(flatten(parsed_lines))"
     ],
     "language": "python",
     "metadata": {},
     "outputs": [
      {
       "ename": "NameError",
       "evalue": "name 'flatten' is not defined",
       "output_type": "pyerr",
       "traceback": [
        "\u001b[0;31m---------------------------------------------------------------------------\u001b[0m\n\u001b[0;31mNameError\u001b[0m                                 Traceback (most recent call last)",
        "\u001b[0;32m<ipython-input-118-9347948bdf91>\u001b[0m in \u001b[0;36m<module>\u001b[0;34m()\u001b[0m\n\u001b[0;32m----> 1\u001b[0;31m \u001b[0mlen\u001b[0m\u001b[0;34m(\u001b[0m\u001b[0mflatten\u001b[0m\u001b[0;34m(\u001b[0m\u001b[0mparsed_lines\u001b[0m\u001b[0;34m)\u001b[0m\u001b[0;34m)\u001b[0m\u001b[0;34m\u001b[0m\u001b[0m\n\u001b[0m",
        "\u001b[0;31mNameError\u001b[0m: name 'flatten' is not defined"
       ]
      }
     ],
     "prompt_number": 118
    },
    {
     "cell_type": "code",
     "collapsed": false,
     "input": [
      "type([])==list"
     ],
     "language": "python",
     "metadata": {},
     "outputs": [
      {
       "output_type": "pyout",
       "prompt_number": 163,
       "text": [
        "True"
       ]
      }
     ],
     "prompt_number": 163
    },
    {
     "cell_type": "code",
     "collapsed": false,
     "input": [],
     "language": "python",
     "metadata": {},
     "outputs": []
    }
   ],
   "metadata": {}
  }
 ]
}