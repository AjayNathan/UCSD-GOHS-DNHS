{
 "metadata": {
  "name": "Playing around"
 },
 "nbformat": 3,
 "nbformat_minor": 0,
 "worksheets": [
  {
   "cells": [
    {
     "cell_type": "markdown",
     "metadata": {},
     "source": [
      "A page for playing around\n",
      "-------------------------\n",
      "First, let's explore lists\n",
      "\n",
      "1. this is an item\n",
      "2. THis is also an item\n",
      "1. this is a third item"
     ]
    },
    {
     "cell_type": "code",
     "collapsed": false,
     "input": [
      "A=[1,2,3,4,5]\n",
      "A"
     ],
     "language": "python",
     "metadata": {},
     "outputs": [
      {
       "output_type": "pyout",
       "prompt_number": 23,
       "text": [
        "[1, 2, 3, 4, 5]"
       ]
      }
     ],
     "prompt_number": 23
    },
    {
     "cell_type": "code",
     "collapsed": false,
     "input": [
      "A.reverse(\n",
      "A"
     ],
     "language": "python",
     "metadata": {},
     "outputs": [
      {
       "output_type": "pyout",
       "prompt_number": 24,
       "text": [
        "[5, 4, 3, 2, 1]"
       ]
      }
     ],
     "prompt_number": 24
    },
    {
     "cell_type": "code",
     "collapsed": false,
     "input": [
      "B=['dddd',['323',3]]"
     ],
     "language": "python",
     "metadata": {},
     "outputs": [],
     "prompt_number": 13
    },
    {
     "cell_type": "code",
     "collapsed": false,
     "input": [
      "B[1][1]"
     ],
     "language": "python",
     "metadata": {},
     "outputs": [
      {
       "output_type": "pyout",
       "prompt_number": 16,
       "text": [
        "3"
       ]
      }
     ],
     "prompt_number": 16
    },
    {
     "cell_type": "code",
     "collapsed": false,
     "input": [
      "C={'yoav':2, 'david':5}"
     ],
     "language": "python",
     "metadata": {},
     "outputs": [],
     "prompt_number": 17
    },
    {
     "cell_type": "code",
     "collapsed": false,
     "input": [
      "C"
     ],
     "language": "python",
     "metadata": {},
     "outputs": [
      {
       "output_type": "pyout",
       "prompt_number": 18,
       "text": [
        "{'david': 5, 'yoav': 2}"
       ]
      }
     ],
     "prompt_number": 18
    },
    {
     "cell_type": "code",
     "collapsed": false,
     "input": [
      "C.keys()"
     ],
     "language": "python",
     "metadata": {},
     "outputs": [
      {
       "output_type": "pyout",
       "prompt_number": 19,
       "text": [
        "['yoav', 'david']"
       ]
      }
     ],
     "prompt_number": 19
    },
    {
     "cell_type": "code",
     "collapsed": false,
     "input": [
      "C.values()"
     ],
     "language": "python",
     "metadata": {},
     "outputs": [
      {
       "output_type": "pyout",
       "prompt_number": 20,
       "text": [
        "[2, 5]"
       ]
      }
     ],
     "prompt_number": 20
    },
    {
     "cell_type": "code",
     "collapsed": false,
     "input": [
      "for x in A:\n",
      "    print '%3d,' % x,"
     ],
     "language": "python",
     "metadata": {},
     "outputs": [
      {
       "output_type": "stream",
       "stream": "stdout",
       "text": [
        "  5,   4,   3,   2,   1,\n"
       ]
      }
     ],
     "prompt_number": 25
    },
    {
     "cell_type": "code",
     "collapsed": false,
     "input": [
      "':'.join([('%3d,' % x) for x in A if x>3])"
     ],
     "language": "python",
     "metadata": {},
     "outputs": [
      {
       "output_type": "pyout",
       "prompt_number": 28,
       "text": [
        "'  5,:  4,'"
       ]
      }
     ],
     "prompt_number": 28
    },
    {
     "cell_type": "code",
     "collapsed": false,
     "input": [
      "In[23]"
     ],
     "language": "python",
     "metadata": {},
     "outputs": [
      {
       "output_type": "pyout",
       "prompt_number": 30,
       "text": [
        "u'A=[1,2,3,4,5]\\nA'"
       ]
      }
     ],
     "prompt_number": 30
    },
    {
     "cell_type": "code",
     "collapsed": false,
     "input": [
      "Out[23]"
     ],
     "language": "python",
     "metadata": {},
     "outputs": [
      {
       "output_type": "pyout",
       "prompt_number": 31,
       "text": [
        "[5, 4, 3, 2, 1]"
       ]
      }
     ],
     "prompt_number": 31
    },
    {
     "cell_type": "code",
     "collapsed": false,
     "input": [
      "print '\\n'.join(In)"
     ],
     "language": "python",
     "metadata": {},
     "outputs": [
      {
       "output_type": "stream",
       "stream": "stdout",
       "text": [
        "\n",
        "A=[1,2,3,4,5]\n",
        "A=[1,2,3,4,5]\n",
        "A\n",
        "A.reverse()\n",
        "A.reverse()\n",
        "A\n",
        "print A.reverse()\n",
        "A.reverse()\n",
        "A\n",
        "A.reverse()\n",
        "A\n",
        "A.reverse()\n",
        "A\n",
        "A.reverse()\n",
        "A\n",
        "['dddd','323']\n",
        "['dddd',['323',3]]\n",
        "B[0]\n",
        "B=['dddd',['323',3]]\n",
        "B[0]\n",
        "B[1]\n",
        "B[1][1]\n",
        "A={'yoav':2, 'david':5}\n",
        "A\n",
        "A.keys()\n",
        "A.values()\n",
        "for x in A:\n",
        "    print '%3d,' %x,\n",
        "A[0]\n",
        "A=[1,2,3,4,5]\n",
        "A\n",
        "A.reverse()\n",
        "A\n",
        "for x in A:\n",
        "    print '%3d,' % x,\n",
        "[('%3d,' % x) for x in A]\n",
        "':'.join([('%3d,' % x) for x in A])\n",
        "':'.join([('%3d,' % x) for x in A if x>3])\n",
        "IN[23]\n",
        "In[23]\n",
        "Out[23]\n",
        "'\\n'.join(In)\n",
        "print '\\n'.join(In)\n"
       ]
      }
     ],
     "prompt_number": 33
    },
    {
     "cell_type": "code",
     "collapsed": false,
     "input": [],
     "language": "python",
     "metadata": {},
     "outputs": []
    }
   ],
   "metadata": {}
  }
 ]
}